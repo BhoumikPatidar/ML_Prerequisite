{
 "cells": [
  {
   "cell_type": "markdown",
   "id": "8fab8dd7",
   "metadata": {},
   "source": [
    "### Question 1\n",
    "(n,k) matrix implies n rows and k columns. Multiplication of (n,k) and (k,m) matrices will result in (n,m) matrix.\n",
    "(i,j)th element will be the result of ith row and jth column. There are n*m elements in the final matrix.\n",
    "For finding a single element we multiply corresponding elements of row of first matrix with column of the second matrix with are both of length k. This implies k multiplication corresponding to a single element. Then all these are added implies k-1 additions corresponding to each element of the resulting matrix. \n",
    "Hence, there will be k * m * n multiplications and (k-1) * m * n additions."
   ]
  },
  {
   "cell_type": "markdown",
   "id": "7ff31a70",
   "metadata": {},
   "source": [
    "### Question 2"
   ]
  },
  {
   "cell_type": "code",
   "execution_count": 1,
   "id": "2c306fd4",
   "metadata": {},
   "outputs": [
    {
     "name": "stdout",
     "output_type": "stream",
     "text": [
      "The time required using list of lists 0.19150185585021973\n"
     ]
    }
   ],
   "source": [
    "import numpy as np\n",
    "import time\n",
    "\n",
    "\n",
    "# matrix1=[[1,2,3,6],\n",
    "#         [4,5,6,8],\n",
    "#         [7,8,9,10]]\n",
    "# matrix2=[[2,3],\n",
    "#         [5,6],\n",
    "#         [4,8],\n",
    "#         [9,2]]\n",
    "matrix1 = np.random.rand(100, 80)\n",
    "matrix2 = np.random.rand(80, 60)\n",
    "# Using list of lists\n",
    "start=time.time()\n",
    "def matrixmulti(mat1,mat2):\n",
    "    k=len(mat1[0])\n",
    "    m=len(mat2[0])\n",
    "    n= len(mat1)\n",
    "    matrix = []\n",
    "    for _ in range(n):\n",
    "        row = []\n",
    "        for _ in range(m):\n",
    "            row.append(0)\n",
    "        matrix.append(row)\n",
    "        \n",
    "    for i in range(n):\n",
    "        for j in range(m):\n",
    "            for l in range(k):\n",
    "                matrix[i][j]+=mat1[i][l]*mat2[l][j]\n",
    "            \n",
    "    return matrix\n",
    "\n",
    "\n",
    "\n",
    "matrix = matrixmulti(matrix1,matrix2)\n",
    "end=time.time()\n",
    "# print(matrix)\n",
    "print(\"The time required using list of lists\",end-start)"
   ]
  },
  {
   "cell_type": "code",
   "execution_count": 80,
   "id": "7d3f6f59",
   "metadata": {},
   "outputs": [
    {
     "name": "stdout",
     "output_type": "stream",
     "text": [
      "The time required using numpy 0.024337053298950195\n"
     ]
    }
   ],
   "source": [
    "# Using numpy\n",
    "start=time.time()\n",
    "result = np.dot(matrix1, matrix2)\n",
    "end=time.time()\n",
    "# print(result)\n",
    "print(\"The time required using numpy\",end-start)\n"
   ]
  },
  {
   "cell_type": "markdown",
   "id": "4c7457fd",
   "metadata": {},
   "source": [
    "Numpy's matrix multiplication is faster because of - <br>\n",
    "<b>Vectorization</b>: Mathematical operations are performed on entire arrays rather than looping through individual elements. This reduces overhead associated with looping. <br>\n",
    "<b>C language backend</b>: C is low level, hence results in faster execution. "
   ]
  },
  {
   "cell_type": "markdown",
   "id": "4158039d",
   "metadata": {},
   "source": [
    "### Question 3"
   ]
  },
  {
   "cell_type": "code",
   "execution_count": 3,
   "id": "8c6c3ded",
   "metadata": {},
   "outputs": [
    {
     "name": "stdout",
     "output_type": "stream",
     "text": [
      "50.0\n",
      "Time taken is 2.9843668937683105\n"
     ]
    }
   ],
   "source": [
    "#From the looping algorithm\n",
    "import random\n",
    "arr = [random.randint(1, 100) for _ in range(10000)]\n",
    "#print(arr)\n",
    "arr2=arr.copy()\n",
    "arr3=arr.copy()\n",
    "\n",
    "start=time.time()\n",
    "if len(arr)%2==0:\n",
    "    k=(len(arr)-2)//2\n",
    "else:\n",
    "    k=(len(arr)-1)//2\n",
    "#print(k)\n",
    "\n",
    "\n",
    "for j in range(k):\n",
    "    maxe=None\n",
    "    for i in range(len(arr)):\n",
    "        if maxe==None or maxe<arr[i]:\n",
    "            maxe=arr[i]\n",
    "            ind=i\n",
    "    arr[ind]=-1e9\n",
    "#print(arr)\n",
    "maxe=None\n",
    "if len(arr)%2!=0:\n",
    "    for i in range(len(arr)):\n",
    "        if maxe==None or maxe<=arr[i]:\n",
    "            maxe=arr[i]\n",
    "    print(maxe)\n",
    "else:\n",
    "    max1,max2=None,None\n",
    "    for i in range(len(arr)):\n",
    "        if max1==None or max1<=arr[i]:\n",
    "            max1=arr[i]\n",
    "            ind1=i\n",
    "    arr[ind1]=-1e9\n",
    "    for i in range(len(arr)):\n",
    "        if max2==None or max2<=arr[i]:\n",
    "            max2=arr[i]\n",
    "    print((max1+max2)/2)\n",
    "end=time.time()\n",
    "print(\"Time taken is\",end-start)"
   ]
  },
  {
   "cell_type": "markdown",
   "id": "12b2c5ba",
   "metadata": {},
   "source": [
    "The time complexity of the above algorithm is $(O(n^2)$)"
   ]
  },
  {
   "cell_type": "code",
   "execution_count": 4,
   "id": "7b1e1ce0",
   "metadata": {},
   "outputs": [
    {
     "name": "stdout",
     "output_type": "stream",
     "text": [
      "The median of the array is 50.0\n",
      "The time taken is 0.0006949901580810547\n"
     ]
    }
   ],
   "source": [
    "#After sorting the array\n",
    "start=time.time()\n",
    "arr2.sort()\n",
    "#print(arr2)\n",
    "if len(arr2)%2==0:\n",
    "    med=(arr2[(len(arr2))//2 -1]+arr2[(len(arr2))//2] )/2\n",
    "else:\n",
    "    med = arr2[(len(arr2)+1)//2]\n",
    "end=time.time()\n",
    "print(\"The median of the array is\",med)\n",
    "print(\"The time taken is\", end-start)"
   ]
  },
  {
   "cell_type": "markdown",
   "id": "d873349f",
   "metadata": {},
   "source": [
    "The order of the above algorithm is $O(nlogn)$"
   ]
  },
  {
   "cell_type": "code",
   "execution_count": 5,
   "id": "c5005e50",
   "metadata": {},
   "outputs": [
    {
     "name": "stdout",
     "output_type": "stream",
     "text": [
      "The median is 50.0\n",
      "The time taken is 0.0008378028869628906\n"
     ]
    }
   ],
   "source": [
    "#Using numpy.median\n",
    "start=time.time()\n",
    "med=np.median(arr3)\n",
    "end=time.time()\n",
    "print(\"The median is\",med)\n",
    "print(\"The time taken is\",end-start)"
   ]
  },
  {
   "cell_type": "markdown",
   "id": "4f8dd190",
   "metadata": {},
   "source": [
    "### Question 4"
   ]
  },
  {
   "cell_type": "markdown",
   "id": "0e8c8bd2",
   "metadata": {},
   "source": [
    "The gradient of the expression wrt to x is - <br>\n",
    "$2xy + \\cos(x) \\cdot y^3$\n",
    "\n",
    "The gradient of the expression wrt to y is - <br>\n",
    "$x^2 + 3(y^2) \\cdot \\sin(x)$\n",
    "\n"
   ]
  },
  {
   "cell_type": "markdown",
   "id": "b4871378",
   "metadata": {},
   "source": [
    "### Question 5"
   ]
  },
  {
   "cell_type": "code",
   "execution_count": 28,
   "id": "151e53de",
   "metadata": {},
   "outputs": [
    {
     "name": "stdout",
     "output_type": "stream",
     "text": [
      "Gradient wrt x using jax at-\n",
      "x=1,y=1 is 2.5403023\n",
      "x=2,y=3 is 0.7640352\n",
      "x=4,y=5 is -41.705452\n",
      "\n",
      "\n",
      "x=1,y=1 is 2.5403023\n",
      "x=2,y=3 is 0.7640352\n",
      "x=4,y=5 is -41.705452\n",
      "\n",
      "\n",
      "Gradient wrt x using analytical solution at -\n",
      "Gradient wrt y using jax at-\n",
      "x=1,y=1 is 3.524413\n",
      "x=2,y=3 is 28.55103\n",
      "x=4,y=5 is -40.76019\n",
      "\n",
      "\n",
      "x=1,y=1 is 3.524413\n",
      "x=2,y=3 is 28.55103\n",
      "x=4,y=5 is -40.76019\n",
      "\n",
      "\n"
     ]
    }
   ],
   "source": [
    "import jax\n",
    "import jax.numpy as jnp\n",
    "\n",
    "def func(x,y):\n",
    "    return (x**2)*y + (y**3)*jnp.sin(x)\n",
    "\n",
    "grad_x=jax.grad(func,argnums=0)\n",
    "print(\"Gradient wrt x using jax at-\")\n",
    "print(\"x=1,y=1 is\",grad_x(1.0,1.0))\n",
    "print(\"x=2,y=3 is\",grad_x(2.0,3.0))\n",
    "print(\"x=4,y=5 is\",grad_x(4.0,5.0))\n",
    "print(\"\\n\")\n",
    "\n",
    "def fun_x(x,y):\n",
    "    return 2*x*y + jnp.cos(x) * (y**3)\n",
    "print(\"x=1,y=1 is\",fun_x(1.0,1.0))\n",
    "print(\"x=2,y=3 is\",fun_x(2.0,3.0))\n",
    "print(\"x=4,y=5 is\",fun_x(4.0,5.0))\n",
    "print(\"\\n\")\n",
    "\n",
    "print(\"Gradient wrt x using analytical solution at -\")\n",
    "grad_y=jax.grad(func,argnums=1)\n",
    "print(\"Gradient wrt y using jax at-\")\n",
    "print(\"x=1,y=1 is\",grad_y(1.0,1.0))\n",
    "print(\"x=2,y=3 is\",grad_y(2.0,3.0))\n",
    "print(\"x=4,y=5 is\",grad_y(4.0,5.0))\n",
    "print(\"\\n\")\n",
    "def fun_y(x,y):\n",
    "    return (x**2) + 3*(y**2)*jnp.sin(x)\n",
    "print(\"x=1,y=1 is\",fun_y(1.0,1.0))\n",
    "print(\"x=2,y=3 is\",fun_y(2.0,3.0))\n",
    "print(\"x=4,y=5 is\",fun_y(4.0,5.0))\n",
    "print(\"\\n\")"
   ]
  },
  {
   "cell_type": "markdown",
   "id": "6f265654",
   "metadata": {},
   "source": [
    "### Question 6"
   ]
  },
  {
   "cell_type": "code",
   "execution_count": 32,
   "id": "d7aa25dc",
   "metadata": {},
   "outputs": [
    {
     "name": "stdout",
     "output_type": "stream",
     "text": [
      "2*x*y + y**3*cos(x)\n",
      "x**2 + 3*y**2*sin(x)\n"
     ]
    }
   ],
   "source": [
    "import sympy as sp\n",
    "x,y =sp.symbols('x y')\n",
    "f= (x**2)*y + (y**3)*sp.sin(x)\n",
    "\n",
    "print(sp.diff(f,x))\n",
    "print(sp.diff(f,y))"
   ]
  },
  {
   "cell_type": "markdown",
   "id": "c8514a0a",
   "metadata": {},
   "source": [
    "### Question 7"
   ]
  },
  {
   "cell_type": "code",
   "execution_count": 42,
   "id": "df0cfffe",
   "metadata": {},
   "outputs": [
    {
     "name": "stdout",
     "output_type": "stream",
     "text": [
      "{'2022': {'Branch1': {'Roll No.': '2', 'Name': 'N2', 'Marks': {'Maths': '80', 'English': '70'}}, 'Branch2': {'Roll No.': '2', 'Name': 'N4', 'Marks': {'Maths': '54', 'English': '30'}}}, '2023': {'Branch1': {'Roll No.': '2', 'Name': 'N6', 'Marks': {'Maths': '70', 'English': '80'}}, 'Branch2': {'Roll No.': '2', 'Name': 'N8', 'Marks': {'Maths': '20', 'English': '80'}}}}\n"
     ]
    }
   ],
   "source": [
    "dictionary={'2022':\n",
    "                {'Branch1':\n",
    "                    {'Roll No.':'1','Name': 'N1', 'Marks':{'Maths':'100' , 'English':'50'}\n",
    "                    ,'Roll No.':'2','Name': 'N2', 'Marks':{'Maths':'80' , 'English':'70'}}\n",
    "                ,'Branch2':\n",
    "                    {'Roll No.':'1','Name': 'N3','Marks':{'Maths':'90' , 'English':'80'}\n",
    "                    ,'Roll No.':'2','Name': 'N4','Marks':{'Maths':'54' , 'English':'30'}}\n",
    "                    }\n",
    "            ,'2023':\n",
    "                {'Branch1':\n",
    "                    {'Roll No.':'1','Name': 'N5','Marks':{'Maths':'50' , 'English':'30'}\n",
    "                    ,'Roll No.':'2','Name': 'N6','Marks':{'Maths':'70' , 'English':'80'}}\n",
    "                ,'Branch2':\n",
    "                    {'Roll No.':'1','Name': 'N7','Marks':{'Maths':'60' , 'English':'30'}\n",
    "                    ,'Roll No.':'2','Name': 'N8','Marks':{'Maths':'20' , 'English':'80'}}\n",
    "                }\n",
    "           }\n",
    "print(dictionary)"
   ]
  },
  {
   "cell_type": "markdown",
   "id": "0d40befd",
   "metadata": {},
   "source": [
    "### Question 8"
   ]
  },
  {
   "cell_type": "code",
   "execution_count": 43,
   "id": "04ddf167",
   "metadata": {},
   "outputs": [],
   "source": [
    "class Student:\n",
    "    def __init__(self, roll_no, name, marks):\n",
    "        self.roll_no = roll_no\n",
    "        self.name = name\n",
    "        self.marks = marks\n",
    "\n",
    "class Branch:\n",
    "    def __init__(self, branch_data):\n",
    "        self.students = []\n",
    "        for student_data in branch_data:\n",
    "            roll_no = student_data['Roll No.']\n",
    "            name = student_data['Name']\n",
    "            marks = student_data['Marks']\n",
    "            student = Student(roll_no, name, marks)\n",
    "            self.students.append(student)\n",
    "\n",
    "class Year:\n",
    "    def __init__(self, year_data):\n",
    "        self.branches = {}\n",
    "        for branch, students_data in year_data.items():\n",
    "            self.branches[branch] = Branch(students_data)\n",
    "\n",
    "class NestedDictionary:\n",
    "    def __init__(self, data):\n",
    "        self.years = {}\n",
    "        for year, branches_data in data.items():\n",
    "            self.years[year] = Year(branches_data)d\n",
    "\n",
    "dictionary = {\n",
    "    '2022': {\n",
    "        'Branch1': [\n",
    "            {'Roll No.': '1', 'Name': 'N1', 'Marks': {'Maths': '100', 'English': '50'}},\n",
    "            {'Roll No.': '2', 'Name': 'N2', 'Marks': {'Maths': '80', 'English': '70'}}\n",
    "        ],\n",
    "        'Branch2': [\n",
    "            {'Roll No.': '1', 'Name': 'N3', 'Marks': {'Maths': '90', 'English': '80'}},\n",
    "            {'Roll No.': '2', 'Name': 'N4', 'Marks': {'Maths': '54', 'English': '30'}}\n",
    "        ]\n",
    "    },\n",
    "    '2023': {\n",
    "        'Branch1': [\n",
    "            {'Roll No.': '1', 'Name': 'N5', 'Marks': {'Maths': '50', 'English': '30'}},\n",
    "            {'Roll No.': '2', 'Name': 'N6', 'Marks': {'Maths': '70', 'English': '80'}}\n",
    "        ],\n",
    "        'Branch2': [\n",
    "            {'Roll No.': '1', 'Name': 'N7', 'Marks': {'Maths': '60', 'English': '30'}},\n",
    "            {'Roll No.': '2', 'Name': 'N8', 'Marks': {'Maths': '20', 'English': '80'}}\n",
    "        ]\n",
    "    }\n",
    "}\n",
    "\n",
    "nested_dict = NestedDictionary(dictionary)\n"
   ]
  },
  {
   "cell_type": "markdown",
   "id": "642c85f6",
   "metadata": {},
   "source": [
    "### Question 9"
   ]
  },
  {
   "cell_type": "code",
   "execution_count": 50,
   "id": "ec69c97e",
   "metadata": {},
   "outputs": [
    {
     "data": {
      "text/plain": [
       "[<matplotlib.lines.Line2D at 0x12f2f2b50>]"
      ]
     },
     "execution_count": 50,
     "metadata": {},
     "output_type": "execute_result"
    },
    {
     "data": {
      "image/png": "[encoded data removed]",
      "text/plain": [
       "<Figure size 200x200 with 1 Axes>"
      ]
     },
     "metadata": {},
     "output_type": "display_data"
    }
   ],
   "source": [
    "import matplotlib.pyplot as plt\n",
    "import numpy as np\n",
    "plt.figure(figsize=(2, 2))\n",
    "x = np.arange(0.5,100.0,0.5)\n",
    "y=x\n",
    "plt.plot(x,y)\n"
   ]
  },
  {
   "cell_type": "code",
   "execution_count": 52,
   "id": "560af9cb",
   "metadata": {},
   "outputs": [
    {
     "data": {
      "text/plain": [
       "[<matplotlib.lines.Line2D at 0x12f19a450>]"
      ]
     },
     "execution_count": 52,
     "metadata": {},
     "output_type": "execute_result"
    },
    {
     "data": {
      "image/png": "[encoded data removed]",
      "text/plain": [
       "<Figure size 200x200 with 1 Axes>"
      ]
     },
     "metadata": {},
     "output_type": "display_data"
    }
   ],
   "source": [
    "plt.figure(figsize=(2, 2))\n",
    "y=x**2\n",
    "plt.plot(x,y)"
   ]
  },
  {
   "cell_type": "code",
   "execution_count": 53,
   "id": "bbebf5da",
   "metadata": {},
   "outputs": [
    {
     "data": {
      "text/plain": [
       "[<matplotlib.lines.Line2D at 0x12d8ffed0>]"
      ]
     },
     "execution_count": 53,
     "metadata": {},
     "output_type": "execute_result"
    },
    {
     "data": {
      "image/png": "[encoded data removed]",
      "text/plain": [
       "<Figure size 200x200 with 1 Axes>"
      ]
     },
     "metadata": {},
     "output_type": "display_data"
    }
   ],
   "source": [
    "plt.figure(figsize=(2, 2))\n",
    "y=(x**3)/100\n",
    "plt.plot(x,y)"
   ]
  },
  {
   "cell_type": "code",
   "execution_count": 54,
   "id": "d7a27d39",
   "metadata": {},
   "outputs": [
    {
     "data": {
      "text/plain": [
       "[<matplotlib.lines.Line2D at 0x12f3f0e90>]"
      ]
     },
     "execution_count": 54,
     "metadata": {},
     "output_type": "execute_result"
    },
    {
     "data": {
      "image/png": "[encoded data removed]",
      "text/plain": [
       "<Figure size 200x200 with 1 Axes>"
      ]
     },
     "metadata": {},
     "output_type": "display_data"
    }
   ],
   "source": [
    "plt.figure(figsize=(2, 2))\n",
    "y=np.sin(x)\n",
    "plt.plot(x,y)"
   ]
  },
  {
   "cell_type": "code",
   "execution_count": 56,
   "id": "46a09c62",
   "metadata": {},
   "outputs": [
    {
     "data": {
      "text/plain": [
       "[<matplotlib.lines.Line2D at 0x12f45ef50>]"
      ]
     },
     "execution_count": 56,
     "metadata": {},
     "output_type": "execute_result"
    },
    {
     "data": {
      "image/png": "[encoded data removed]",
      "text/plain": [
       "<Figure size 200x200 with 1 Axes>"
      ]
     },
     "metadata": {},
     "output_type": "display_data"
    }
   ],
   "source": [
    "plt.figure(figsize=(2, 2))\n",
    "y=np.sin(x)/x\n",
    "plt.plot(x,y)"
   ]
  },
  {
   "cell_type": "code",
   "execution_count": 57,
   "id": "fff68490",
   "metadata": {},
   "outputs": [
    {
     "data": {
      "text/plain": [
       "[<matplotlib.lines.Line2D at 0x12f431510>]"
      ]
     },
     "execution_count": 57,
     "metadata": {},
     "output_type": "execute_result"
    },
    {
     "data": {
      "image/png": "[encoded data removed]",
      "text/plain": [
       "<Figure size 200x200 with 1 Axes>"
      ]
     },
     "metadata": {},
     "output_type": "display_data"
    }
   ],
   "source": [
    "plt.figure(figsize=(2, 2))\n",
    "y=np.log(x)\n",
    "plt.plot(x,y)"
   ]
  },
  {
   "cell_type": "code",
   "execution_count": 58,
   "id": "5f9af1b8",
   "metadata": {},
   "outputs": [
    {
     "data": {
      "text/plain": [
       "[<matplotlib.lines.Line2D at 0x12f4ffd50>]"
      ]
     },
     "execution_count": 58,
     "metadata": {},
     "output_type": "execute_result"
    },
    {
     "data": {
      "image/png": "[encoded data removed]",
      "text/plain": [
       "<Figure size 200x200 with 1 Axes>"
      ]
     },
     "metadata": {},
     "output_type": "display_data"
    }
   ],
   "source": [
    "plt.figure(figsize=(2, 2))\n",
    "y=np.exp(x)\n",
    "plt.plot(x,y)"
   ]
  },
  {
   "cell_type": "code",
   "execution_count": 66,
   "id": "fcd5a362",
   "metadata": {},
   "outputs": [
    {
     "name": "stdout",
     "output_type": "stream",
     "text": [
      "           a         b         c         d         e\n",
      "0   1.149052  1.147753  1.357400  1.752496  1.121369\n",
      "1   1.175798  1.051217  1.964150  1.155979  1.832720\n",
      "2   1.538736  1.438104  1.779315  1.312510  1.912290\n",
      "3   1.606965  1.767182  1.949582  1.440612  1.554502\n",
      "4   1.621543  1.454262  1.780524  1.159543  1.376517\n",
      "5   1.514556  1.383885  1.655245  1.472161  1.633471\n",
      "6   1.673243  1.381984  1.388834  1.838888  1.162549\n",
      "7   1.457849  1.776917  1.851965  1.219312  1.529060\n",
      "8   1.443782  1.698593  1.681862  1.986124  1.522728\n",
      "9   1.293031  1.125869  1.773554  1.093139  1.670710\n",
      "10  1.303622  1.671050  1.993026  1.574573  1.795013\n",
      "11  1.959756  1.092841  1.001567  1.445048  1.743027\n",
      "12  1.271562  1.264894  1.276284  1.705705  1.837448\n",
      "13  1.370075  1.282450  1.950392  1.608576  1.697874\n",
      "14  1.125733  1.329713  1.044843  1.908313  1.666800\n",
      "15  1.705399  1.768701  1.931512  1.355432  1.816583\n",
      "16  1.918363  1.789690  1.065640  1.746194  1.940885\n",
      "17  1.031309  1.570379  1.985598  1.312157  1.862329\n",
      "18  1.268772  1.046282  1.394043  1.297985  1.217450\n",
      "19  1.604569  1.460196  1.834424  1.910413  1.185969\n",
      "The index of the column with the highest std. dev. is c\n",
      "The index of the row with the lowest mean is 18\n"
     ]
    }
   ],
   "source": [
    "matrix=np.random.uniform(1,2,size=(20,5))\n",
    "#print(matrix)\n",
    "import pandas as pd\n",
    "df=pd.DataFrame(matrix,columns=['a','b','c','d','e'])\n",
    "print(df)\n",
    "\n",
    "print(\"The index of the column with the highest std. dev. is\", df.std().idxmax())\n",
    "print(\"The index of the row with the lowest mean is\",df.mean(axis=1).idxmin())"
   ]
  },
  {
   "cell_type": "markdown",
   "id": "1e29aad1",
   "metadata": {},
   "source": [
    "### Question 11"
   ]
  },
  {
   "cell_type": "code",
   "execution_count": 72,
   "id": "c3eb4422",
   "metadata": {},
   "outputs": [
    {
     "name": "stdout",
     "output_type": "stream",
     "text": [
      "           a         b         c         d         e         f    g\n",
      "0   1.149052  1.147753  1.357400  1.752496  1.121369  6.528070  LT8\n",
      "1   1.175798  1.051217  1.964150  1.155979  1.832720  7.179863  LT8\n",
      "2   1.538736  1.438104  1.779315  1.312510  1.912290  7.980955  LT8\n",
      "3   1.606965  1.767182  1.949582  1.440612  1.554502  8.318844  GT8\n",
      "4   1.621543  1.454262  1.780524  1.159543  1.376517  7.392389  LT8\n",
      "5   1.514556  1.383885  1.655245  1.472161  1.633471  7.659318  LT8\n",
      "6   1.673243  1.381984  1.388834  1.838888  1.162549  7.445499  LT8\n",
      "7   1.457849  1.776917  1.851965  1.219312  1.529060  7.835103  LT8\n",
      "8   1.443782  1.698593  1.681862  1.986124  1.522728  8.333089  GT8\n",
      "9   1.293031  1.125869  1.773554  1.093139  1.670710  6.956303  LT8\n",
      "10  1.303622  1.671050  1.993026  1.574573  1.795013  8.337284  GT8\n",
      "11  1.959756  1.092841  1.001567  1.445048  1.743027  7.242239  LT8\n",
      "12  1.271562  1.264894  1.276284  1.705705  1.837448  7.355891  LT8\n",
      "13  1.370075  1.282450  1.950392  1.608576  1.697874  7.909368  LT8\n",
      "14  1.125733  1.329713  1.044843  1.908313  1.666800  7.075403  LT8\n",
      "15  1.705399  1.768701  1.931512  1.355432  1.816583  8.577627  GT8\n",
      "16  1.918363  1.789690  1.065640  1.746194  1.940885  8.460773  GT8\n",
      "17  1.031309  1.570379  1.985598  1.312157  1.862329  7.761771  LT8\n",
      "18  1.268772  1.046282  1.394043  1.297985  1.217450  6.224532  LT8\n",
      "19  1.604569  1.460196  1.834424  1.910413  1.185969  7.995572  LT8\n",
      "\n",
      "\n",
      "Number of rows with g=LT8 15\n",
      "Standard deviation of f where g is LT8 is 0.5241851941945532\n",
      "Standard deviation of f where g is GT8 is 0.11190277975659292\n"
     ]
    }
   ],
   "source": [
    "df['f'] = df[['a', 'b', 'c', 'd', 'e']].sum(axis=1)\n",
    "#print(df)\n",
    "df['g'] = df['f'].apply(lambda x: 'LT8' if x < 8 else 'GT8')\n",
    "\n",
    "print(df)\n",
    "print(\"\\n\")\n",
    "print(\"Number of rows with g=LT8\",df[df['g'] == 'LT8'].shape[0])\n",
    "\n",
    "print(\"Standard deviation of f where g is LT8 is\",df.loc[df['g'] == 'LT8', 'f'].std())\n",
    "print(\"Standard deviation of f where g is GT8 is\",df.loc[df['g'] == 'GT8', 'f'].std())\n"
   ]
  },
  {
   "cell_type": "markdown",
   "id": "ec5f2f4c",
   "metadata": {},
   "source": [
    "### Question 12"
   ]
  },
  {
   "cell_type": "markdown",
   "id": "41396799",
   "metadata": {},
   "source": [
    "Broadcasting aligns dimensions to perform operations between arrays of different shapes.\n",
    "Example:"
   ]
  },
  {
   "cell_type": "code",
   "execution_count": 81,
   "id": "3fe3ecd1",
   "metadata": {},
   "outputs": [],
   "source": [
    "arr1 = np.array([[57, 238, 3],\n",
    "                 [34, 234, 45]])\n",
    "\n",
    "arr2 = np.array([10, 20, 30])"
   ]
  },
  {
   "cell_type": "markdown",
   "id": "ef8293b1",
   "metadata": {},
   "source": [
    "arr1 is (2,3) and arr2 is (1,3) so arr2 will be broadcasted to match the size of arr1 by replicating along the necessary dimension."
   ]
  },
  {
   "cell_type": "code",
   "execution_count": 82,
   "id": "5e7fcd21",
   "metadata": {},
   "outputs": [
    {
     "name": "stdout",
     "output_type": "stream",
     "text": [
      "[[ 67 258  33]\n",
      " [ 44 254  75]]\n"
     ]
    }
   ],
   "source": [
    "print(arr1+arr2)"
   ]
  },
  {
   "cell_type": "markdown",
   "id": "2cba02b5",
   "metadata": {},
   "source": [
    "### Question 13"
   ]
  },
  {
   "cell_type": "code",
   "execution_count": 79,
   "id": "a71c4371",
   "metadata": {},
   "outputs": [
    {
     "name": "stdout",
     "output_type": "stream",
     "text": [
      "From function: 107\n",
      "From numpy: 107\n"
     ]
    }
   ],
   "source": [
    "def arg_min(arr):\n",
    "    minm=None\n",
    "    for i in range(len(arr)):\n",
    "        if minm==None or arr[i]<minm:\n",
    "            minm=arr[i]\n",
    "            ind=i\n",
    "    return ind\n",
    "\n",
    "lst=[random.randint(1, 100) for _ in range(10000)]\n",
    "print(\"From function:\",arg_min(lst))\n",
    "\n",
    "#verification\n",
    "print(\"From numpy:\",np.argmin(lst))"
   ]
  },
  {
   "cell_type": "code",
   "execution_count": null,
   "id": "ff731ae8",
   "metadata": {},
   "outputs": [],
   "source": []
  }
 ],
 "metadata": {
  "kernelspec": {
   "display_name": "Python 3 (ipykernel)",
   "language": "python",
   "name": "python3"
  },
  "language_info": {
   "codemirror_mode": {
    "name": "ipython",
    "version": 3
   },
   "file_extension": ".py",
   "mimetype": "text/x-python",
   "name": "python",
   "nbconvert_exporter": "python",
   "pygments_lexer": "ipython3",
   "version": "3.11.5"
  }
 },
 "nbformat": 4,
 "nbformat_minor": 5
}
